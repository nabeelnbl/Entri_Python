{
 "cells": [
  {
   "cell_type": "code",
   "execution_count": 3,
   "id": "2ba92f21-98d8-4338-8367-7cf1639781ab",
   "metadata": {},
   "outputs": [
    {
     "name": "stdout",
     "output_type": "stream",
     "text": [
      "Exercise 1:\n",
      " [[ 1  2  3  4  5]\n",
      " [ 6  7  8  9 10]]\n"
     ]
    }
   ],
   "source": [
    "#Exercise 1: Create and reshape numpy array\n",
    "import numpy as np\n",
    "\n",
    "# Create array from 1 to 10 and reshape to 2x5\n",
    "arr = np.arange(1, 11).reshape(2, 5)\n",
    "print(\"Exercise 1:\\n\", arr)"
   ]
  },
  {
   "cell_type": "code",
   "execution_count": 4,
   "id": "c32721de-5ccc-46bb-9860-bc01d3725d73",
   "metadata": {},
   "outputs": [
    {
     "name": "stdout",
     "output_type": "stream",
     "text": [
      "\n",
      "Exercise 2:\n",
      " [ 6  7  8  9 10 11 12 13 14 15]\n"
     ]
    }
   ],
   "source": [
    "#Exercise 2: Extract elements from numpy array\n",
    "# Create array from 1 to 20 and extract elements between 5th and 15th index\n",
    "arr = np.arange(1, 21)\n",
    "extracted = arr[5:15]  # Note: Python uses 0-based indexing and end index is exclusive\n",
    "print(\"\\nExercise 2:\\n\", extracted)"
   ]
  },
  {
   "cell_type": "code",
   "execution_count": 5,
   "id": "07a21116-c215-463f-8638-f3e310648944",
   "metadata": {},
   "outputs": [
    {
     "name": "stdout",
     "output_type": "stream",
     "text": [
      "\n",
      "Exercise 3:\n",
      " apples     3\n",
      "bananas    2\n",
      "oranges    1\n",
      "pears      4\n",
      "dtype: int64\n"
     ]
    }
   ],
   "source": [
    "#Exercise 3: Create and modify Pandas Series\n",
    "import pandas as pd\n",
    "\n",
    "# Create Series and add new item\n",
    "series = pd.Series({'apples': 3, 'bananas': 2, 'oranges': 1})\n",
    "series['pears'] = 4\n",
    "print(\"\\nExercise 3:\\n\", series)\n"
   ]
  },
  {
   "cell_type": "code",
   "execution_count": null,
   "id": "ee93b397-29d3-4c49-9a07-9301347f7e1c",
   "metadata": {},
   "outputs": [],
   "source": [
    "#Exercise 4: Create DataFrame\n"
   ]
  }
 ],
 "metadata": {
  "kernelspec": {
   "display_name": "Python 3 (ipykernel)",
   "language": "python",
   "name": "python3"
  },
  "language_info": {
   "codemirror_mode": {
    "name": "ipython",
    "version": 3
   },
   "file_extension": ".py",
   "mimetype": "text/x-python",
   "name": "python",
   "nbconvert_exporter": "python",
   "pygments_lexer": "ipython3",
   "version": "3.12.7"
  }
 },
 "nbformat": 4,
 "nbformat_minor": 5
}
