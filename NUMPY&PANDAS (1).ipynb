{
 "cells": [
  {
   "cell_type": "code",
   "execution_count": 3,
   "id": "2ba92f21-98d8-4338-8367-7cf1639781ab",
   "metadata": {},
   "outputs": [
    {
     "name": "stdout",
     "output_type": "stream",
     "text": [
      "Exercise 1:\n",
      " [[ 1  2  3  4  5]\n",
      " [ 6  7  8  9 10]]\n"
     ]
    }
   ],
   "source": [
    "#Exercise 1: Create and reshape numpy array\n",
    "import numpy as np\n",
    "\n",
    "# Create array from 1 to 10 and reshape to 2x5\n",
    "arr = np.arange(1, 11).reshape(2, 5)\n",
    "print(\"Exercise 1:\\n\", arr)"
   ]
  },
  {
   "cell_type": "code",
   "execution_count": 4,
   "id": "c32721de-5ccc-46bb-9860-bc01d3725d73",
   "metadata": {},
   "outputs": [
    {
     "name": "stdout",
     "output_type": "stream",
     "text": [
      "\n",
      "Exercise 2:\n",
      " [ 6  7  8  9 10 11 12 13 14 15]\n"
     ]
    }
   ],
   "source": [
    "#Exercise 2: Extract elements from numpy array\n",
    "# Create array from 1 to 20 and extract elements between 5th and 15th index\n",
    "arr = np.arange(1, 21)\n",
    "extracted = arr[5:15]  # Note: Python uses 0-based indexing and end index is exclusive\n",
    "print(\"\\nExercise 2:\\n\", extracted)"
   ]
  },
  {
   "cell_type": "code",
   "execution_count": 5,
   "id": "07a21116-c215-463f-8638-f3e310648944",
   "metadata": {},
   "outputs": [
    {
     "name": "stdout",
     "output_type": "stream",
     "text": [
      "\n",
      "Exercise 3:\n",
      " apples     3\n",
      "bananas    2\n",
      "oranges    1\n",
      "pears      4\n",
      "dtype: int64\n"
     ]
    }
   ],
   "source": [
    "#Exercise 3: Create and modify Pandas Series\n",
    "import pandas as pd\n",
    "\n",
    "# Create Series and add new item\n",
    "series = pd.Series({'apples': 3, 'bananas': 2, 'oranges': 1})\n",
    "series['pears'] = 4\n",
    "print(\"\\nExercise 3:\\n\", series)\n"
   ]
  },
  {
   "cell_type": "code",
   "execution_count": 6,
   "id": "ee93b397-29d3-4c49-9a07-9301347f7e1c",
   "metadata": {},
   "outputs": [
    {
     "name": "stdout",
     "output_type": "stream",
     "text": [
      "\n",
      "Exercise 4:\n",
      "       name  age gender\n",
      "0    Alice   25      F\n",
      "1      Bob   32      M\n",
      "2  Charlie   28      M\n",
      "3    David   35      M\n",
      "4      Eve   29      F\n",
      "5    Frank   42      M\n",
      "6    Grace   31      F\n",
      "7    Henry   27      M\n",
      "8      Ivy   38      F\n",
      "9     Jack   45      M\n"
     ]
    }
   ],
   "source": [
    "#Exercise 4: Create DataFrame\n",
    "# Create DataFrame with 10 rows\n",
    "data = {\n",
    "    'name': ['Alice', 'Bob', 'Charlie', 'David', 'Eve', 'Frank', 'Grace', 'Henry', 'Ivy', 'Jack'],\n",
    "    'age': [25, 32, 28, 35, 29, 42, 31, 27, 38, 45],\n",
    "    'gender': ['F', 'M', 'M', 'M', 'F', 'M', 'F', 'M', 'F', 'M']\n",
    "}\n",
    "df = pd.DataFrame(data)\n",
    "print(\"\\nExercise 4:\\n\", df)"
   ]
  },
  {
   "cell_type": "code",
   "execution_count": 7,
   "id": "8c9d20e1-58e7-408a-b3bb-6f1c276a9b13",
   "metadata": {},
   "outputs": [
    {
     "name": "stdout",
     "output_type": "stream",
     "text": [
      "\n",
      "Exercise 5:\n",
      "       name  age gender  occupation\n",
      "0    Alice   25      F  Programmer\n",
      "1      Bob   32      M     Manager\n",
      "2  Charlie   28      M     Analyst\n",
      "3    David   35      M  Programmer\n",
      "4      Eve   29      F     Manager\n",
      "5    Frank   42      M     Analyst\n",
      "6    Grace   31      F  Programmer\n",
      "7    Henry   27      M     Manager\n",
      "8      Ivy   38      F     Analyst\n",
      "9     Jack   45      M  Programmer\n"
     ]
    }
   ],
   "source": [
    "# Add occupation column with repeating values\n",
    "occupations = ['Programmer', 'Manager', 'Analyst'] * 3 + ['Programmer']  # To make 10 items\n",
    "df['occupation'] = occupations[:10]  # Ensure we only take 10 items\n",
    "print(\"\\nExercise 5:\\n\", df)"
   ]
  },
  {
   "cell_type": "code",
   "execution_count": 8,
   "id": "08b7ef9f-572d-477d-a82e-3ccfe8bf0b96",
   "metadata": {},
   "outputs": [
    {
     "name": "stdout",
     "output_type": "stream",
     "text": [
      "\n",
      "Exercise 6:\n",
      "     name  age gender  occupation\n",
      "1    Bob   32      M     Manager\n",
      "3  David   35      M  Programmer\n",
      "5  Frank   42      M     Analyst\n",
      "6  Grace   31      F  Programmer\n",
      "8    Ivy   38      F     Analyst\n",
      "9   Jack   45      M  Programmer\n"
     ]
    }
   ],
   "source": [
    "# Select rows where age >= 30\n",
    "filtered_df = df[df['age'] >= 30]\n",
    "print(\"\\nExercise 6:\\n\", filtered_df)"
   ]
  },
  {
   "cell_type": "code",
   "execution_count": 9,
   "id": "237ec498-7742-462d-a9c2-17775b97ef66",
   "metadata": {},
   "outputs": [
    {
     "name": "stdout",
     "output_type": "stream",
     "text": [
      "\n",
      "Exercise 7:\n",
      "       name  age gender  occupation\n",
      "0    Alice   25      F  Programmer\n",
      "1      Bob   32      M     Manager\n",
      "2  Charlie   28      M     Analyst\n",
      "3    David   35      M  Programmer\n",
      "4      Eve   29      F     Manager\n",
      "5    Frank   42      M     Analyst\n",
      "6    Grace   31      F  Programmer\n",
      "7    Henry   27      M     Manager\n",
      "8      Ivy   38      F     Analyst\n",
      "9     Jack   45      M  Programmer\n"
     ]
    }
   ],
   "source": [
    "# Save to CSV and read back\n",
    "df.to_csv('people_data.csv', index=False)\n",
    "read_df = pd.read_csv('people_data.csv')\n",
    "print(\"\\nExercise 7:\\n\", read_df)"
   ]
  }
 ],
 "metadata": {
  "kernelspec": {
   "display_name": "Python 3 (ipykernel)",
   "language": "python",
   "name": "python3"
  },
  "language_info": {
   "codemirror_mode": {
    "name": "ipython",
    "version": 3
   },
   "file_extension": ".py",
   "mimetype": "text/x-python",
   "name": "python",
   "nbconvert_exporter": "python",
   "pygments_lexer": "ipython3",
   "version": "3.12.7"
  }
 },
 "nbformat": 4,
 "nbformat_minor": 5
}
