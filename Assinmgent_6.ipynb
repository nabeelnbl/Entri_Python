{
 "cells": [
  {
   "cell_type": "code",
   "execution_count": 3,
   "id": "7232d1f9-baed-4245-9822-6f8fa881f355",
   "metadata": {},
   "outputs": [
    {
     "name": "stdout",
     "output_type": "stream",
     "text": [
      "Course Code: CS101, Name: Introduction to Computer Science, Credit Hours: 3, Required for Major: True\n",
      "Course Code: HIS201, Name: World History, Credit Hours: 3, Elective Type: liberal arts\n"
     ]
    }
   ],
   "source": [
    "# Base class for a course\n",
    "class Course:\n",
    "    def __init__(self, course_code, course_name, credit_hours):\n",
    "        self.course_code = course_code\n",
    "        self.course_name = course_name\n",
    "        self.credit_hours = credit_hours\n",
    "\n",
    "    def display_info(self):\n",
    "        return f\"Course Code: {self.course_code}, Name: {self.course_name}, Credit Hours: {self.credit_hours}\"\n",
    "\n",
    "# Subclass for core courses\n",
    "class CoreCourse(Course):\n",
    "    def __init__(self, course_code, course_name, credit_hours, required_for_major):\n",
    "        super().__init__(course_code, course_name, credit_hours)\n",
    "        self.required_for_major = required_for_major\n",
    "\n",
    "    def display_info(self):\n",
    "        base_info = super().display_info()\n",
    "        return f\"{base_info}, Required for Major: {self.required_for_major}\"\n",
    "\n",
    "# Subclass for elective courses\n",
    "class ElectiveCourse(Course):\n",
    "    def __init__(self, course_code, course_name, credit_hours, elective_type):\n",
    "        super().__init__(course_code, course_name, credit_hours)\n",
    "        self.elective_type = elective_type\n",
    "\n",
    "    def display_info(self):\n",
    "        base_info = super().display_info()\n",
    "        return f\"{base_info}, Elective Type: {self.elective_type}\"\n",
    "\n",
    "\n",
    "\n",
    "    # Creating a core course instance\n",
    "    core_course = CoreCourse(\"CS101\", \"Introduction to Computer Science\", 3, True)\n",
    "    print(core_course.display_info())\n",
    "\n",
    "    # Creating an elective course instance\n",
    "    elective_course = ElectiveCourse(\"HIS201\", \"World History\", 3, \"liberal arts\")\n",
    "    print(elective_course.display_info())\n"
   ]
  },
  {
   "cell_type": "code",
   "execution_count": 4,
   "id": "1e5bbca2-c4e3-4b71-b1c8-ff1993ad6715",
   "metadata": {},
   "outputs": [],
   "source": [
    "# Simulated employee.py module\n",
    "class Employee:\n",
    "    def __init__(self, name, salary):\n",
    "        self.name = name\n",
    "        self.salary = salary\n",
    "\n",
    "    def get_name(self):\n",
    "        return self.name\n",
    "\n",
    "    def get_salary(self):\n",
    "        return self.salary\n"
   ]
  },
  {
   "cell_type": "code",
   "execution_count": 5,
   "id": "9f3ff223-6efc-4931-97e6-2030c14c7014",
   "metadata": {},
   "outputs": [
    {
     "name": "stdout",
     "output_type": "stream",
     "text": [
      "Employee Name: John Doe\n",
      "Employee Salary: 50000\n"
     ]
    }
   ],
   "source": [
    "# Main program\n",
    "def main():\n",
    "    # Create an instance of Employee\n",
    "    emp = Employee(\"John Doe\", 50000)\n",
    "\n",
    "    # Display the name and salary of the employee\n",
    "    print(\"Employee Name:\", emp.get_name())\n",
    "    print(\"Employee Salary:\", emp.get_salary())\n",
    "\n",
    "# Call the main function\n",
    "main()\n"
   ]
  },
  {
   "cell_type": "code",
   "execution_count": null,
   "id": "ead66bb0-8ec5-4fec-a9f4-7b955f45f966",
   "metadata": {},
   "outputs": [],
   "source": []
  }
 ],
 "metadata": {
  "kernelspec": {
   "display_name": "Python 3 (ipykernel)",
   "language": "python",
   "name": "python3"
  },
  "language_info": {
   "codemirror_mode": {
    "name": "ipython",
    "version": 3
   },
   "file_extension": ".py",
   "mimetype": "text/x-python",
   "name": "python",
   "nbconvert_exporter": "python",
   "pygments_lexer": "ipython3",
   "version": "3.12.7"
  }
 },
 "nbformat": 4,
 "nbformat_minor": 5
}
