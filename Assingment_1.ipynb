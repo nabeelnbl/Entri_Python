{
 "cells": [
  {
   "cell_type": "markdown",
   "id": "f04b784c-930c-4366-8b32-c16cf26032f5",
   "metadata": {},
   "source": [
    "# Exercise_1   "
   ]
  },
  {
   "cell_type": "code",
   "execution_count": 9,
   "id": "24e54794-da1a-4a7c-bd28-ffd1492186cf",
   "metadata": {},
   "outputs": [
    {
     "name": "stdout",
     "output_type": "stream",
     "text": [
      "Name : Mohammed Nabeel\n",
      "ROLL_No : D42_0036\n",
      "Email : nabeelcpb12@gmail.com\n"
     ]
    }
   ],
   "source": [
    "print(\"Name : Mohammed Nabeel\")\n",
    "print(\"ROLL_No : D42_0036\")\n",
    "print(\"Email : nabeelcpb12@gmail.com\")"
   ]
  },
  {
   "cell_type": "markdown",
   "id": "0ea9cc84-b52c-46e4-87e2-48cc6e8363e0",
   "metadata": {},
   "source": [
    "# Exercise_2"
   ]
  },
  {
   "cell_type": "code",
   "execution_count": 21,
   "id": "51d44aa9-9a3f-4168-9030-37590e78d927",
   "metadata": {},
   "outputs": [
    {
     "name": "stdout",
     "output_type": "stream",
     "text": [
      "Name : Mohammed Nabeel \n",
      "ROLL_No : D42_0036 \n",
      "Email : nabeelcpb12@gmail.com\n"
     ]
    }
   ],
   "source": [
    "print(\"Name : Mohammed Nabeel \\nROLL_No : D42_0036 \\nEmail : nabeelcpb12@gmail.com\" )\n"
   ]
  },
  {
   "cell_type": "markdown",
   "id": "5164be3c-a03a-48c6-b692-45737accea9e",
   "metadata": {},
   "source": [
    "# Exercise_3"
   ]
  },
  {
   "cell_type": "code",
   "execution_count": 41,
   "id": "f52c34a6-7649-4e37-add2-e12c7909aef1",
   "metadata": {},
   "outputs": [
    {
     "name": "stdout",
     "output_type": "stream",
     "text": [
      "14+7=21\n",
      "14-7=7\n",
      "14*7=98\n",
      "14/7=2.0\n"
     ]
    }
   ],
   "source": [
    "a=14\n",
    "b=7\n",
    "print(f\"{a}+{b}={a+b}\")\n",
    "print(f\"{a}-{b}={a-b}\")\n",
    "print(f\"{a}*{b}={a*b}\")\n",
    "print(f\"{a}/{b}={a/b}\")\n"
   ]
  },
  {
   "cell_type": "markdown",
   "id": "88fb45fa-a1e3-4683-80a6-c18d444631ce",
   "metadata": {},
   "source": [
    "# Exercise_4"
   ]
  },
  {
   "cell_type": "code",
   "execution_count": 44,
   "id": "fcd9a6d7-2707-410b-a72b-dbafabe0550f",
   "metadata": {},
   "outputs": [
    {
     "name": "stdout",
     "output_type": "stream",
     "text": [
      "1\n",
      "2\n",
      "3\n",
      "4\n",
      "5\n"
     ]
    }
   ],
   "source": [
    "print(\"\"\"1\n",
    "2\n",
    "3\n",
    "4\n",
    "5\"\"\")"
   ]
  },
  {
   "cell_type": "markdown",
   "id": "3fc46090-26d5-47a4-be2d-07710c9ce344",
   "metadata": {},
   "source": [
    "# Exercise_5"
   ]
  },
  {
   "cell_type": "code",
   "execution_count": 59,
   "id": "bdbd2345-037e-44eb-90fb-16cc7cb38253",
   "metadata": {},
   "outputs": [
    {
     "name": "stdout",
     "output_type": "stream",
     "text": [
      "\"SDK\" stands for \"Software Development Kit\", \n",
      "whereas \"IDE\" stands for \"Integrated Development Environment\".\n"
     ]
    }
   ],
   "source": [
    "print(\n",
    "    '\"SDK\" stands for \"Software Development Kit\", \\nwhereas \"IDE\" stands for \"Integrated Development Environment\".')"
   ]
  },
  {
   "cell_type": "markdown",
   "id": "229676cc-644c-403a-86a4-703b402b1489",
   "metadata": {},
   "source": [
    "# Exercise_6"
   ]
  },
  {
   "cell_type": "code",
   "execution_count": 89,
   "id": "cdeec822-4ade-42aa-8eb1-414c8910eaa5",
   "metadata": {},
   "outputs": [
    {
     "name": "stdout",
     "output_type": "stream",
     "text": [
      "python is an \"awesome\" language.\n",
      "python\n",
      "\t2023\n",
      "I'm from Entri\n",
      "5\n",
      "e\n",
      "Entri\n",
      "2023\n",
      "Entr2023\n",
      "Entri*20"
     ]
    }
   ],
   "source": [
    "print(\"python is an \\\"awesome\\\" language.\") \n",
    "print(\"python\\n\\t2023\") \n",
    "print('I\\'m from Entri.\\b') \n",
    "print(\"\\65\") \n",
    "print(\"\\x65\") \n",
    "print(\"Entri\", \"2023\", sep=\"\\n\") \n",
    "print(\"Entri\", \"2023\", sep=\"\\b\") \n",
    "print(\"Entri\", \"2023\", sep=\"*\", end=\"\\b\\b\\b\\b\")"
   ]
  },
  {
   "cell_type": "markdown",
   "id": "6bfccc74-12eb-4438-b78c-fdef92a93a12",
   "metadata": {},
   "source": [
    "# Exercise_7"
   ]
  },
  {
   "cell_type": "code",
   "execution_count": 102,
   "id": "f19dac82-8437-4594-bf31-6f4f85d55983",
   "metadata": {},
   "outputs": [
    {
     "name": "stdout",
     "output_type": "stream",
     "text": [
      "the type of num : <class 'int'>\n",
      "the type of textnum : <class 'str'>\n",
      "the type of decimal : <class 'float'>\n",
      "57\n",
      "the sum of three variable is 178.3\n"
     ]
    }
   ],
   "source": [
    "num=23 \n",
    "textnum=\"57\" \n",
    "decimal=98.3\n",
    "\n",
    "print(\"the type of num :\" ,type(num))\n",
    "print(\"the type of textnum :\" ,type(textnum))\n",
    "print(\"the type of decimal :\" ,type(decimal))\n",
    "\n",
    "int_textnum= int(textnum)\n",
    "print(int_textnum)\n",
    "print(f\"the sum of three variable is {num+int_textnum+decimal}\")\n"
   ]
  },
  {
   "cell_type": "markdown",
   "id": "a34434d3-671b-47d8-a5e6-9f080993176d",
   "metadata": {},
   "source": [
    "# Exercise_8"
   ]
  },
  {
   "cell_type": "code",
   "execution_count": 111,
   "id": "1c97e786-ace1-4f71-a355-ebd61bc43696",
   "metadata": {},
   "outputs": [
    {
     "name": "stdout",
     "output_type": "stream",
     "text": [
      "total minutes in a year: 525600.\n"
     ]
    }
   ],
   "source": [
    "no_days=365\n",
    "min_hrs=60\n",
    "hrs_day=24\n",
    "\n",
    "print(f\"total minutes in a year: {no_days*min_hrs*hrs_day}.\")"
   ]
  },
  {
   "cell_type": "markdown",
   "id": "6f01befa-c1a0-4cb0-9aaf-c455329a1e7c",
   "metadata": {},
   "source": [
    "# Exercise_9"
   ]
  },
  {
   "cell_type": "code",
   "execution_count": 124,
   "id": "1b3f47cc-3d75-4903-b80c-afe579866029",
   "metadata": {},
   "outputs": [
    {
     "name": "stdin",
     "output_type": "stream",
     "text": [
      "enter your name: nabeel\n"
     ]
    },
    {
     "name": "stdout",
     "output_type": "stream",
     "text": [
      "nabeel hi nabeel, welcome to python programing.\n"
     ]
    }
   ],
   "source": [
    "name = input(\"enter your name:\")\n",
    "print(f\"{name} hi {name}, welcome to python programing.\")"
   ]
  },
  {
   "cell_type": "markdown",
   "id": "5a0c1d6f-eb6a-4b4d-aa0a-0289d482c6f6",
   "metadata": {},
   "source": [
    "# Exercise_10"
   ]
  },
  {
   "cell_type": "code",
   "execution_count": 131,
   "id": "f3c015ff-a690-491c-9644-061cafc83fcf",
   "metadata": {},
   "outputs": [
    {
     "name": "stdin",
     "output_type": "stream",
     "text": [
      "enter the amount in pounds :  65\n"
     ]
    },
    {
     "name": "stdout",
     "output_type": "stream",
     "text": [
      "you dollar amount is 83.2\n"
     ]
    }
   ],
   "source": [
    "#conversion of pound into dollar\n",
    "\n",
    "pounds_amt = int(input(\"enter the amount in pounds : \"))\n",
    "dollar_amt = pounds_amt * 1.28                 \n",
    "print(f\"you dollar amount is {dollar_amt}\")                 "
   ]
  }
 ],
 "metadata": {
  "kernelspec": {
   "display_name": "Python 3 (ipykernel)",
   "language": "python",
   "name": "python3"
  },
  "language_info": {
   "codemirror_mode": {
    "name": "ipython",
    "version": 3
   },
   "file_extension": ".py",
   "mimetype": "text/x-python",
   "name": "python",
   "nbconvert_exporter": "python",
   "pygments_lexer": "ipython3",
   "version": "3.12.4"
  }
 },
 "nbformat": 4,
 "nbformat_minor": 5
}
