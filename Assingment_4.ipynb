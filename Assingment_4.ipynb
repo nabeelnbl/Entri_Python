{
 "cells": [
  {
   "cell_type": "code",
   "execution_count": 1,
   "id": "a069f099-abeb-44ce-a247-c87d3aab2bdb",
   "metadata": {},
   "outputs": [
    {
     "name": "stdout",
     "output_type": "stream",
     "text": [
      "15\n",
      "25\n",
      "300\n"
     ]
    }
   ],
   "source": [
    "#1 Function with Optional Arguments\n",
    "\n",
    "def my_function(first_arg, second_arg=10, third_arg=None):\n",
    "    if third_arg is None:\n",
    "        print(first_arg + second_arg)\n",
    "    else:\n",
    "        print(first_arg * second_arg * third_arg)\n",
    "\n",
    "my_function(5)             \n",
    "my_function(5, 20)          \n",
    "my_function(5, 20, 3)        \n"
   ]
  },
  {
   "cell_type": "code",
   "execution_count": 6,
   "id": "b7d2963c-d042-46b9-a59b-687e887c056d",
   "metadata": {},
   "outputs": [
    {
     "name": "stdout",
     "output_type": "stream",
     "text": [
      "['apple', 'carrot', 'elephant']\n"
     ]
    }
   ],
   "source": [
    "#Filter Strings by Length\n",
    "def filtered_strings(strings):\n",
    "    result=[]\n",
    "    for s in strings:\n",
    "        if len(s)>=5:\n",
    "           result.append(s)\n",
    "    return result\n",
    "\n",
    "strings = [\"apple\", \"bat\", \"carrot\", \"dog\", \"elephant\"]\n",
    "filtered_string = filtered_strings(strings)  \n",
    "print(filtered_string)\n",
    "            "
   ]
  },
  {
   "cell_type": "code",
   "execution_count": 10,
   "id": "319cec71-15b0-4055-8404-c27003fa2739",
   "metadata": {},
   "outputs": [
    {
     "name": "stdout",
     "output_type": "stream",
     "text": [
      "17\n"
     ]
    }
   ],
   "source": [
    "#Evaluate Mathematical Expression\n",
    "\n",
    "expression = \"3 * 5 + 2\"\n",
    "result = eval(expression)\n",
    "print(result)  "
   ]
  },
  {
   "cell_type": "code",
   "execution_count": 11,
   "id": "4179498c-327b-46bb-8680-4896182d1591",
   "metadata": {},
   "outputs": [
    {
     "name": "stdout",
     "output_type": "stream",
     "text": [
      "[2, 3, 5, 7, 11]\n"
     ]
    }
   ],
   "source": [
    "#Filter Prime Numbers\n",
    "\n",
    "def is_prime(n):\n",
    "    if n <= 1:\n",
    "        return False\n",
    "    for i in range(2, int(n**0.5) + 1):\n",
    "        if n % i == 0:\n",
    "            return False\n",
    "    return True\n",
    "\n",
    "def filter_primes(numbers):\n",
    "    return list(filter(is_prime, numbers))\n",
    "\n",
    "# Example usage:\n",
    "numbers = [2, 3, 4, 5, 6, 7, 8, 9, 10, 11]\n",
    "prime_numbers = filter_primes(numbers)\n",
    "print(prime_numbers)  "
   ]
  },
  {
   "cell_type": "code",
   "execution_count": null,
   "id": "ad71fc9b-f8eb-4775-b9c0-3946c3310117",
   "metadata": {},
   "outputs": [],
   "source": []
  }
 ],
 "metadata": {
  "kernelspec": {
   "display_name": "Python 3 (ipykernel)",
   "language": "python",
   "name": "python3"
  },
  "language_info": {
   "codemirror_mode": {
    "name": "ipython",
    "version": 3
   },
   "file_extension": ".py",
   "mimetype": "text/x-python",
   "name": "python",
   "nbconvert_exporter": "python",
   "pygments_lexer": "ipython3",
   "version": "3.12.7"
  }
 },
 "nbformat": 4,
 "nbformat_minor": 5
}
