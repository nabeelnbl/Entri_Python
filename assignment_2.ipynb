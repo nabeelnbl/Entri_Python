{
 "cells": [
  {
   "cell_type": "markdown",
   "id": "3adcbf5a-1485-46c8-8855-287cadc5a430",
   "metadata": {},
   "source": [
    "#  List Exercise"
   ]
  },
  {
   "cell_type": "markdown",
   "id": "7a9f46c1-1c93-4160-8471-e15fc7d31ffd",
   "metadata": {},
   "source": [
    "## Q1. Create a list of 5 random numbers and print the list"
   ]
  },
  {
   "cell_type": "code",
   "execution_count": 32,
   "id": "fa033fe5-8423-4975-9bdc-2f7b8ac6ee30",
   "metadata": {},
   "outputs": [
    {
     "name": "stdout",
     "output_type": "stream",
     "text": [
      "List of random numbers: [5, 10, 15, 20, 25]\n"
     ]
    }
   ],
   "source": [
    "random_numbers = [5, 10, 15, 20, 25]\n",
    "print(\"List of random numbers:\", random_numbers)\n"
   ]
  },
  {
   "cell_type": "markdown",
   "id": "4b266a40-e429-4d8c-b06a-761790c2e604",
   "metadata": {},
   "source": [
    "## Q2. Insert 3 new values to the list and print the updated list."
   ]
  },
  {
   "cell_type": "code",
   "execution_count": 34,
   "id": "edda726c-ade2-4570-9d6a-d1333dc10a37",
   "metadata": {},
   "outputs": [
    {
     "name": "stdout",
     "output_type": "stream",
     "text": [
      "Updated list: [5, 10, 15, 20, 25, 30, 35, 40]\n"
     ]
    }
   ],
   "source": [
    "random_numbers.extend([30, 35, 40])\n",
    "print(\"Updated list:\", random_numbers)\n"
   ]
  },
  {
   "cell_type": "markdown",
   "id": "702d1d93-303c-4004-a1e6-6c9bf728d3e8",
   "metadata": {},
   "source": [
    "## Q3: Try to use a for loop to print each element in the list.\n"
   ]
  },
  {
   "cell_type": "code",
   "execution_count": 37,
   "id": "b536ed42-1d07-4c23-b102-10a28fe547a0",
   "metadata": {},
   "outputs": [
    {
     "name": "stdout",
     "output_type": "stream",
     "text": [
      "5\n",
      "10\n",
      "15\n",
      "20\n",
      "25\n",
      "30\n",
      "35\n",
      "40\n"
     ]
    }
   ],
   "source": [
    "for x in random_numbers:\n",
    "    print(x)\n"
   ]
  },
  {
   "cell_type": "markdown",
   "id": "61dc52d4-ff41-4bb1-bba0-498a1343aec9",
   "metadata": {},
   "source": [
    "# Dictionary Exercise"
   ]
  },
  {
   "cell_type": "markdown",
   "id": "a1f616dc-ce07-46cc-84ab-72ff2a63b471",
   "metadata": {},
   "source": [
    "## Q1: Create a dictionary with keys 'name', 'age', and 'address' and values 'John', 25, and 'New York' respectively"
   ]
  },
  {
   "cell_type": "code",
   "execution_count": 45,
   "id": "01e8db0e-7ec1-4d2b-8a31-7482a4482592",
   "metadata": {},
   "outputs": [
    {
     "name": "stdout",
     "output_type": "stream",
     "text": [
      "Dictionary: {'name': 'John', 'age': 25, 'address': 'New York'}\n"
     ]
    }
   ],
   "source": [
    "person = {'name': 'John', 'age': 25, 'address': 'New York'}\n",
    "print(\"Dictionary:\", person)\n"
   ]
  },
  {
   "cell_type": "markdown",
   "id": "29503d29-e27d-420a-8dfd-d955f6d0904d",
   "metadata": {},
   "source": [
    "## Q2: Add a new key-value pair to the dictionary created in Q1 with key 'phone' and value '1234567890'."
   ]
  },
  {
   "cell_type": "code",
   "execution_count": 47,
   "id": "5da13d2f-6987-4b05-9b84-87500d907966",
   "metadata": {},
   "outputs": [
    {
     "name": "stdout",
     "output_type": "stream",
     "text": [
      "Updated dictionary: {'name': 'John', 'age': 25, 'address': 'New York', 'phone': '1234567890'}\n"
     ]
    }
   ],
   "source": [
    "person['phone'] = '1234567890'\n",
    "print(\"Updated dictionary:\", person)\n"
   ]
  },
  {
   "cell_type": "markdown",
   "id": "07b9773f-5671-489b-8cfa-792677d01275",
   "metadata": {},
   "source": [
    "# Set Exercise"
   ]
  },
  {
   "cell_type": "markdown",
   "id": "6732bb8c-fe73-46fe-9782-e0ffad15b239",
   "metadata": {},
   "source": [
    "# Q1: Create a set with values 1, 2, 3, 4, and 5.\n"
   ]
  },
  {
   "cell_type": "code",
   "execution_count": 57,
   "id": "32396c45-dbfb-48fd-809f-f0d97bd55727",
   "metadata": {},
   "outputs": [
    {
     "name": "stdout",
     "output_type": "stream",
     "text": [
      "Set: {1, 2, 3, 4, 5}\n"
     ]
    }
   ],
   "source": [
    "my_set = {1, 2, 3, 4, 5}\n",
    "print(\"Set:\", my_set)\n"
   ]
  },
  {
   "cell_type": "markdown",
   "id": "866c65b9-4e68-45aa-9ed9-473dbc4db9ba",
   "metadata": {},
   "source": [
    "# Q2: Add the value 6 to the set created in Q1."
   ]
  },
  {
   "cell_type": "code",
   "execution_count": 61,
   "id": "cdaaf9ad-974d-4c1a-a3c5-2c9aa36d4979",
   "metadata": {},
   "outputs": [
    {
     "name": "stdout",
     "output_type": "stream",
     "text": [
      "Set after adding 6: {1, 2, 3, 4, 5, 6}\n"
     ]
    }
   ],
   "source": [
    "my_set.add(6)\n",
    "print(\"Set after adding 6:\", my_set)\n"
   ]
  },
  {
   "cell_type": "markdown",
   "id": "7961a6c6-0d75-4d17-8e95-369b2d3d2ee2",
   "metadata": {},
   "source": [
    "# Remove the value 3 from the set created in Q1."
   ]
  },
  {
   "cell_type": "code",
   "execution_count": 64,
   "id": "516a930c-ae72-4197-b926-922f0268088d",
   "metadata": {},
   "outputs": [
    {
     "name": "stdout",
     "output_type": "stream",
     "text": [
      "Set after removing 3: {1, 2, 4, 5, 6}\n"
     ]
    }
   ],
   "source": [
    "my_set.discard(3)\n",
    "print(\"Set after removing 3:\", my_set)\n"
   ]
  },
  {
   "cell_type": "markdown",
   "id": "2f414b6c-b005-4d79-818e-89721bdd7949",
   "metadata": {},
   "source": [
    "# Tuple Exercise"
   ]
  },
  {
   "cell_type": "markdown",
   "id": "ca3e3851-d059-43c8-9207-d902b798d90f",
   "metadata": {},
   "source": [
    "## Q1: Create a tuple with values 1, 2, 3, and 4."
   ]
  },
  {
   "cell_type": "code",
   "execution_count": 67,
   "id": "112e9841-d3bb-486a-ad6f-a8dd4e38a888",
   "metadata": {},
   "outputs": [
    {
     "name": "stdout",
     "output_type": "stream",
     "text": [
      "Tuple: (1, 2, 3, 4)\n"
     ]
    }
   ],
   "source": [
    "my_tuple = (1, 2, 3, 4)\n",
    "print(\"Tuple:\", my_tuple)\n"
   ]
  },
  {
   "cell_type": "markdown",
   "id": "be31089b-85ac-4094-9358-fab211dd6e66",
   "metadata": {},
   "source": [
    "## Q2: Print the length of the tuple created in Q1."
   ]
  },
  {
   "cell_type": "code",
   "execution_count": null,
   "id": "18454ace-90a7-45df-8712-a871ca723923",
   "metadata": {},
   "outputs": [],
   "source": []
  }
 ],
 "metadata": {
  "kernelspec": {
   "display_name": "Python 3 (ipykernel)",
   "language": "python",
   "name": "python3"
  },
  "language_info": {
   "codemirror_mode": {
    "name": "ipython",
    "version": 3
   },
   "file_extension": ".py",
   "mimetype": "text/x-python",
   "name": "python",
   "nbconvert_exporter": "python",
   "pygments_lexer": "ipython3",
   "version": "3.12.4"
  }
 },
 "nbformat": 4,
 "nbformat_minor": 5
}
